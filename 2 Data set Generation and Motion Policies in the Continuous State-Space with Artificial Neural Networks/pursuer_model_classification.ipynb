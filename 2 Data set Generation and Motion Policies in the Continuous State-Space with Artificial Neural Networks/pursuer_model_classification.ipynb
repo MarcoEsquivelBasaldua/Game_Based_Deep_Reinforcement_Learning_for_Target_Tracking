{
 "cells": [
  {
   "cell_type": "markdown",
   "metadata": {},
   "source": [
    "# Pursuer Model"
   ]
  },
  {
   "cell_type": "code",
   "execution_count": 1,
   "metadata": {},
   "outputs": [
    {
     "name": "stdout",
     "output_type": "stream",
     "text": [
      "3.9.5 (default, May 11 2021, 08:20:37) \n",
      "[GCC 10.3.0]\n",
      "1.9.1+cu111\n",
      "11.1\n",
      "cuda\n"
     ]
    }
   ],
   "source": [
    "import torch\n",
    "from torch import nn\n",
    "import torch.optim as optim\n",
    "from torch.utils.data import Dataset, DataLoader\n",
    "from torch.autograd import Variable\n",
    "\n",
    "import sys\n",
    "import numpy as np\n",
    "import pandas as pd\n",
    "import matplotlib.pyplot as plt\n",
    "\n",
    "# Set device\n",
    "print(sys.version)\n",
    "print(torch.__version__)\n",
    "print(torch.version.cuda)\n",
    "\n",
    "device = torch.device('cuda' if torch.cuda.is_available() else 'cpu')\n",
    "print(device)"
   ]
  },
  {
   "cell_type": "markdown",
   "metadata": {},
   "source": [
    "## Load train and test data set"
   ]
  },
  {
   "cell_type": "code",
   "execution_count": 2,
   "metadata": {},
   "outputs": [
    {
     "name": "stdout",
     "output_type": "stream",
     "text": [
      "Total samples: 69620\n",
      "Train samples: 55696\n",
      "Test samples: 13924\n"
     ]
    }
   ],
   "source": [
    "sel_env = 4\n",
    "res = 2\n",
    "\n",
    "batch_size = 256\n",
    "\n",
    "# data loading\n",
    "states_actions = pd.read_csv('./train_set_Env'+str(sel_env)+'_res'+str(res)+'.csv', dtype=np.float32)\n",
    "states_actions = states_actions.sample(frac = 1).reset_index(drop = True)\n",
    "\n",
    "total_samples = states_actions.shape[0]\n",
    "total_train_samples = int(0.8*total_samples)\n",
    "total_test_samples = total_samples - total_train_samples\n",
    "\n",
    "states_actions_train = states_actions.iloc[:total_train_samples,:]\n",
    "states_actions_test = states_actions.iloc[(total_train_samples+1):,:]\n",
    "\n",
    "print('Total samples:', total_samples)\n",
    "print('Train samples:', total_train_samples)\n",
    "print('Test samples:', total_test_samples)"
   ]
  },
  {
   "cell_type": "markdown",
   "metadata": {},
   "source": [
    "### Check Actions distributions"
   ]
  },
  {
   "cell_type": "code",
   "execution_count": 3,
   "metadata": {},
   "outputs": [
    {
     "name": "stdout",
     "output_type": "stream",
     "text": [
      "Pursuer discrete actions distribution percentage\n",
      "Action 0 (stay): 22.72\n",
      "        Action 1 (move right): 19.35\n",
      "        Action 2 (move up): 17.93\n",
      "        Action 3 (move left): 21.18\n",
      "        Action 4 (move down): 18.81\n"
     ]
    },
    {
     "data": {
      "image/png": "[encoded data removed]",
      "text/plain": [
       "<Figure size 432x288 with 1 Axes>"
      ]
     },
     "metadata": {
      "needs_background": "light"
     },
     "output_type": "display_data"
    }
   ],
   "source": [
    "action_0 = sum(states_actions.iloc[:,5] == 0.0)\n",
    "action_1 = sum(states_actions.iloc[:,5] == 1.0)\n",
    "action_2 = sum(states_actions.iloc[:,5] == 2.0)\n",
    "action_3 = sum(states_actions.iloc[:,5] == 3.0)\n",
    "action_4 = sum(states_actions.iloc[:,5] == 4.0)\n",
    "\n",
    "actions = np.array([action_0, action_1, action_2, action_3, action_4])\n",
    "actions = actions/total_samples * 100.0\n",
    "\n",
    "print('Pursuer discrete actions distribution percentage\\nAction 0 (stay): {:.2f}\\n\\\n",
    "        Action 1 (move right): {:.2f}\\n\\\n",
    "        Action 2 (move up): {:.2f}\\n\\\n",
    "        Action 3 (move left): {:.2f}\\n\\\n",
    "        Action 4 (move down): {:.2f}'\\\n",
    "        .format(actions[0], actions[1], actions[2], actions[3], actions[4])\n",
    "    )\n",
    "\n",
    "plt.bar(np.linspace(0,4,5, endpoint = True), actions, width=0.7)\n",
    "plt.xlabel('Actions')\n",
    "plt.xticks(range(0,5))\n",
    "plt.ylabel('Percentage')\n",
    "plt.title('Pursuer Whole Dataset actions distribution')\n",
    "plt.savefig('Env'+str(sel_env)+'_res'+str(res)+'_pursuer_distributions.png')\n",
    "plt.show()"
   ]
  },
  {
   "cell_type": "code",
   "execution_count": 4,
   "metadata": {},
   "outputs": [],
   "source": [
    "class PursuerTrainDataset(Dataset):\n",
    "    def __init__(self):\n",
    "        self.x = torch.from_numpy(states_actions_train.iloc[:, 0:4].values)\n",
    "        self.y = torch.from_numpy(states_actions_train.iloc[:, 5].values).long()\n",
    "        self.n_samples = states_actions_train.shape[0]\n",
    "\n",
    "    def __getitem__(self, index):\n",
    "        return self.x[index], self.y[index]\n",
    "\n",
    "    def __len__(self):\n",
    "        return self.n_samples\n",
    "\n",
    "train_set = PursuerTrainDataset()\n",
    "train_loader = DataLoader(dataset = train_set, \n",
    "                          batch_size = batch_size, \n",
    "                          shuffle = False, \n",
    "                          num_workers = 2\n",
    "                        )\n",
    "\n",
    "class PursuerTestDataset(Dataset):\n",
    "    def __init__(self):\n",
    "        self.x = torch.from_numpy(states_actions_test.iloc[:, 0:4].values)\n",
    "        self.y = torch.from_numpy(states_actions_test.iloc[:, 5].values).long()\n",
    "        self.n_samples = states_actions_test.shape[0]\n",
    "\n",
    "    def __getitem__(self, index):\n",
    "        return self.x[index], self.y[index]\n",
    "\n",
    "    def __len__(self):\n",
    "        return self.n_samples\n",
    "\n",
    "test_set = PursuerTestDataset()\n",
    "test_loader = DataLoader(dataset = test_set, \n",
    "                         batch_size = batch_size, \n",
    "                         shuffle = False, num_workers = 2\n",
    "                        )"
   ]
  },
  {
   "cell_type": "markdown",
   "metadata": {},
   "source": [
    "## Hyperparameters"
   ]
  },
  {
   "cell_type": "code",
   "execution_count": 5,
   "metadata": {},
   "outputs": [],
   "source": [
    "input_size = 4\n",
    "output_size = 5\n",
    "learning_rate = 1e-3\n",
    "epochs = 1000"
   ]
  },
  {
   "cell_type": "markdown",
   "metadata": {},
   "source": [
    "## Create Fully Connected Network"
   ]
  },
  {
   "cell_type": "code",
   "execution_count": 6,
   "metadata": {},
   "outputs": [],
   "source": [
    "from models import pursuer_NN\n",
    "\n",
    "# Initialize network\n",
    "pursuer_model = pursuer_NN(input_size, output_size, 256, device).to(device = device)\n",
    "criterion = nn.CrossEntropyLoss()\n",
    "optimizer = optim.AdamW(pursuer_model.parameters(), lr = learning_rate)"
   ]
  },
  {
   "cell_type": "markdown",
   "metadata": {},
   "source": [
    "## Training"
   ]
  },
  {
   "cell_type": "code",
   "execution_count": 7,
   "metadata": {
    "tags": [
     "outputPrepend"
    ]
   },
   "outputs": [
    {
     "name": "stdout",
     "output_type": "stream",
     "text": [
      "Epoch: 999  Loss: 0.9857  Loss Val: 0.9921  Accuracy: 0.9230  Accuracy Val: 0.8950"
     ]
    }
   ],
   "source": [
    "loss_list         = []\n",
    "loss_val_list     = []\n",
    "iteration_list    = []\n",
    "accuracy_list     = []\n",
    "accuracy_list_val = []\n",
    "overfitting = False\n",
    "\n",
    "i = 0\n",
    "for epoch in range(epochs):\n",
    "    total=0\n",
    "    correct=0\n",
    "\n",
    "    for batch_idx, (state, action) in enumerate(train_loader):\n",
    "        state = state.to(device = device)\n",
    "        action = action.to(device = device)\n",
    "\n",
    "        state = Variable(state)\n",
    "        action = Variable(action)\n",
    "\n",
    "        # Forward\n",
    "        outputs = pursuer_model.predict(state)\n",
    "        loss_train = criterion(outputs, action)\n",
    "\n",
    "        # Backward\n",
    "        optimizer.zero_grad()\n",
    "        loss_train.backward()\n",
    "\n",
    "        # Gradient decent\n",
    "        optimizer.step()\n",
    "\n",
    "        predicted = torch.max(outputs.data, 1)[1]\n",
    "        total += len(action)\n",
    "        correct += (predicted == action).sum()\n",
    "    \n",
    "    # calcula el desempeño en entrenamiento: Precisión (accuracy)\n",
    "    accuracy = float(correct) / float(total)\n",
    "    # almacena la evaluación de desempeño\n",
    "    iteration_list.append(epoch)\n",
    "    loss_list.append(loss_train.item())\n",
    "    accuracy_list.append(accuracy)\n",
    "\n",
    "\n",
    "\n",
    "    # Evaluate prediction by lots on each epoch\n",
    "    correct = 0\n",
    "    total   = 0\n",
    "    for state, action in test_loader:\n",
    "        state = state.to(device = device)\n",
    "        action = action.to(device = device)\n",
    "\n",
    "        state = Variable(state)\n",
    "        action = Variable(action)\n",
    "\n",
    "        outputs = pursuer_model.predict(state)\n",
    "        loss_val = criterion(outputs, action)\n",
    "\n",
    "        predicted = torch.max(outputs.data, 1)[1]   # etiqueta predicha (WTA)  \n",
    "        total += len(action)                        # número total de etiquetas en lote\n",
    "        correct += (predicted == action).sum() \n",
    "        \n",
    "    accuracy_val = float(correct) / float(total)\n",
    "    loss_val_list.append(loss_val.item())\n",
    "    accuracy_list_val.append(accuracy_val)\n",
    "\n",
    "    # - - - - - - - - - - - - - - - \n",
    "    # Display evaluación\n",
    "    # - - - - - - - - - - - - - - - \n",
    "    if i%5 == 0 or i == epochs-1:\n",
    "        print('\\rEpoch: {:02}  Loss: {:.4f}  Loss Val: {:.4f}  Accuracy: {:.4f}  Accuracy Val: {:.4f}'\\\n",
    "            .format(epoch, loss_train.data, loss_val.data, accuracy, accuracy_val), end=''\n",
    "            )\n",
    "    i+=1\n",
    "    # Condition to early stop\n",
    "    # N = 50\n",
    "    # epsilon = 0.001\n",
    "    # if epoch > N:\n",
    "    #     accuracy_mean = np.mean(accuracy_list[-N:])\n",
    "    #     accuracy_val_mean = np.mean(accuracy_list_val[-N:])\n",
    "\n",
    "    #     # if accuracy_val_mean > accuracy_mean:\n",
    "    #     #     overfitting = True\n",
    "\n",
    "    #     # if accuracy_mean > accuracy_val_mean and overfitting:\n",
    "    #     #     print('Epoch used:', epoch)\n",
    "    #     #     break\n",
    "    #     if accuracy_val - accuracy_val_mean < epsilon:\n",
    "    #         print('Epoch used:', epoch)\n",
    "    #         break"
   ]
  },
  {
   "cell_type": "code",
   "execution_count": 8,
   "metadata": {},
   "outputs": [
    {
     "name": "stdout",
     "output_type": "stream",
     "text": [
      "0.9857\n",
      "0.9921\n",
      "92.30\n",
      "89.50\n"
     ]
    }
   ],
   "source": [
    "print('{:.4f}'.format(loss_list[-1]))\n",
    "print('{:.4f}'.format(loss_val_list[-1]))\n",
    "\n",
    "print('{:.2f}'.format(100*accuracy_list[-1]))\n",
    "print('{:.2f}'.format(100*accuracy_list_val[-1]))"
   ]
  },
  {
   "cell_type": "markdown",
   "metadata": {},
   "source": [
    "## Results Visualization"
   ]
  },
  {
   "cell_type": "code",
   "execution_count": 9,
   "metadata": {},
   "outputs": [
    {
     "data": {
      "image/png": "[encoded data removed]",
      "text/plain": [
       "<Figure size 432x288 with 1 Axes>"
      ]
     },
     "metadata": {
      "needs_background": "light"
     },
     "output_type": "display_data"
    }
   ],
   "source": [
    "# Loss\n",
    "plt.plot(iteration_list,loss_list)\n",
    "plt.plot(iteration_list,loss_val_list)\n",
    "plt.legend(['Train loss', 'Validation loss'])\n",
    "plt.xlabel(\"Epoch\")\n",
    "plt.ylabel(\"Loss\")\n",
    "plt.title(\"Pursuer Loss Training and Validation\")\n",
    "plt.savefig('Env'+str(sel_env)+'_res'+str(res)+'_pursuer_loss.png')\n",
    "plt.show()"
   ]
  },
  {
   "cell_type": "code",
   "execution_count": 10,
   "metadata": {},
   "outputs": [
    {
     "data": {
      "image/png": "[encoded data removed]",
      "text/plain": [
       "<Figure size 432x288 with 1 Axes>"
      ]
     },
     "metadata": {
      "needs_background": "light"
     },
     "output_type": "display_data"
    }
   ],
   "source": [
    "# Accuracy\n",
    "plt.plot(iteration_list,accuracy_list)\n",
    "plt.plot(iteration_list,accuracy_list_val)\n",
    "plt.legend(['Train accuracy', 'Validation accuracy'])\n",
    "plt.xlabel(\"Epoch\")\n",
    "plt.ylabel(\"Accuracy\")\n",
    "plt.title(\"Pursuer Accuracy Training and Validation\")\n",
    "plt.savefig('Env'+str(sel_env)+'_res'+str(res)+'_pursuer_accuracy.png')\n",
    "plt.show()"
   ]
  },
  {
   "cell_type": "markdown",
   "metadata": {},
   "source": [
    "## Save the model"
   ]
  },
  {
   "cell_type": "code",
   "execution_count": 11,
   "metadata": {},
   "outputs": [],
   "source": [
    "torch.save(pursuer_model, 'pursuer_NN_Env' + str(sel_env) + '_res' + str(res) + '.pt')\n",
    "torch.save(pursuer_model.state_dict(), 'pursuer_dict_NN_Env' + str(sel_env) + '_res' + str(res) + '.pt')"
   ]
  },
  {
   "cell_type": "code",
   "execution_count": null,
   "metadata": {},
   "outputs": [],
   "source": []
  }
 ],
 "metadata": {
  "interpreter": {
   "hash": "916dbcbb3f70747c44a77c7bcd40155683ae19c65e1c03b4aa3499c5328201f1"
  },
  "kernelspec": {
   "display_name": "Python 3.9.5 64-bit",
   "name": "python3"
  },
  "language_info": {
   "codemirror_mode": {
    "name": "ipython",
    "version": 3
   },
   "file_extension": ".py",
   "mimetype": "text/x-python",
   "name": "python",
   "nbconvert_exporter": "python",
   "pygments_lexer": "ipython3",
   "version": "3.9.5"
  },
  "metadata": {
   "interpreter": {
    "hash": "916dbcbb3f70747c44a77c7bcd40155683ae19c65e1c03b4aa3499c5328201f1"
   }
  },
  "orig_nbformat": 2
 },
 "nbformat": 4,
 "nbformat_minor": 2
}
