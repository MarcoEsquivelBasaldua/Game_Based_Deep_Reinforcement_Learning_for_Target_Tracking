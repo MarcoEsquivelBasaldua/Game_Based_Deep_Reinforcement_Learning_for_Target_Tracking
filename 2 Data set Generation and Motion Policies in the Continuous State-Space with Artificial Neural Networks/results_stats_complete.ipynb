{
 "cells": [
  {
   "cell_type": "markdown",
   "source": [
    "# Policies aproximation stats"
   ],
   "metadata": {}
  },
  {
   "cell_type": "code",
   "execution_count": null,
   "source": [
    "import torch\n",
    "import numpy as np\n",
    "import matplotlib.pyplot as plt\n",
    "import pandas as pd\n",
    "import sys\n",
    "from environment import Environment\n",
    "\n",
    "# Set device\n",
    "print(sys.version)\n",
    "print(torch.__version__)\n",
    "print(torch.version.cuda)\n",
    "\n",
    "device = torch.device('cuda' if torch.cuda.is_available() else 'cpu')\n",
    "print(device)"
   ],
   "outputs": [
    {
     "output_type": "stream",
     "name": "stdout",
     "text": [
      "3.9.5 (default, May 11 2021, 08:20:37) \n",
      "[GCC 10.3.0]\n",
      "1.9.1+cu111\n",
      "11.1\n",
      "cuda\n"
     ]
    }
   ],
   "metadata": {}
  },
  {
   "cell_type": "markdown",
   "source": [
    "## Load environment and list of valid states"
   ],
   "metadata": {}
  },
  {
   "cell_type": "code",
   "execution_count": 2,
   "source": [
    "sel_env = 4\n",
    "res = 2\n",
    "\n",
    "MAP = np.loadtxt('Env'+str(sel_env)+'_res'+str(res)+'.txt', skiprows=1, dtype = int)\n",
    "WIDTH = MAP.shape[0]\n",
    "LENGTH = MAP.shape[1]\n",
    "\n",
    "E = np.loadtxt('E_Env'+str(sel_env)+'_res'+str(res)+'.txt')\n",
    "W = np.loadtxt('W_Env'+str(sel_env)+'_res'+str(res)+'.txt').tolist()\n",
    "\n",
    "# Replace inf values in E for the second largest value plus 1\n",
    "E[E == np.inf] = -1\n",
    "E[E == -1] = np.max(E) + 1\n",
    "E = E.astype(np.int64)\n",
    "max_diff = 10\n",
    "\n",
    "# Environmnet\n",
    "env_head = [WIDTH, LENGTH, sel_env, res]\n",
    "print(env_head)\n",
    "env = Environment(env_head, device)\n",
    "\n",
    "states_actions = pd.read_csv('./train_set_Env'+str(sel_env)+'_res'+str(res)+'.csv', dtype=np.float32)\n",
    "states_actions = states_actions.drop(np.where(np.array(states_actions) == -1.)[0])                         # Only states where initial visibility are considered\n",
    "states_actions = states_actions.sample(frac = 1).reset_index(drop = True)\n",
    "\n",
    "states = np.delete(states_actions.to_numpy(), np.s_[4:7], axis=1 )"
   ],
   "outputs": [
    {
     "output_type": "stream",
     "name": "stdout",
     "text": [
      "[30, 30, 4, 2]\n"
     ]
    }
   ],
   "metadata": {}
  },
  {
   "cell_type": "markdown",
   "source": [
    "## Load trained models"
   ],
   "metadata": {}
  },
  {
   "cell_type": "code",
   "execution_count": 3,
   "source": [
    "from models import evader_NN\n",
    "evader_model = torch.load('evader_NN_Env' + str(sel_env) + '_res' + str(res) + '.pt', map_location=torch.device(device)).to(device)\n",
    "evader_model.eval().to(device = device)"
   ],
   "outputs": [
    {
     "output_type": "execute_result",
     "data": {
      "text/plain": [
       "evader_NN(\n",
       "  (predict): Sequential(\n",
       "    (0): Linear(in_features=4, out_features=256, bias=True)\n",
       "    (1): ReLU()\n",
       "    (2): Linear(in_features=256, out_features=256, bias=True)\n",
       "    (3): ReLU()\n",
       "    (4): Linear(in_features=256, out_features=256, bias=True)\n",
       "    (5): ReLU()\n",
       "    (6): Linear(in_features=256, out_features=256, bias=True)\n",
       "    (7): ReLU()\n",
       "    (8): Linear(in_features=256, out_features=4, bias=True)\n",
       "    (9): Softmax(dim=-1)\n",
       "  )\n",
       ")"
      ]
     },
     "metadata": {},
     "execution_count": 3
    }
   ],
   "metadata": {}
  },
  {
   "cell_type": "code",
   "execution_count": 4,
   "source": [
    "from models import pursuer_NN\n",
    "pursuer_model = torch.load('pursuer_NN_Env' + str(sel_env) + '_res' + str(res) + '.pt', map_location=torch.device(device))\n",
    "pursuer_model.eval().to(device = device)"
   ],
   "outputs": [
    {
     "output_type": "execute_result",
     "data": {
      "text/plain": [
       "pursuer_NN(\n",
       "  (predict): Sequential(\n",
       "    (0): Linear(in_features=4, out_features=256, bias=True)\n",
       "    (1): ReLU()\n",
       "    (2): Linear(in_features=256, out_features=256, bias=True)\n",
       "    (3): ReLU()\n",
       "    (4): Linear(in_features=256, out_features=256, bias=True)\n",
       "    (5): ReLU()\n",
       "    (6): Linear(in_features=256, out_features=256, bias=True)\n",
       "    (7): ReLU()\n",
       "    (8): Linear(in_features=256, out_features=5, bias=True)\n",
       "    (9): Softmax(dim=-1)\n",
       "  )\n",
       ")"
      ]
     },
     "metadata": {},
     "execution_count": 4
    }
   ],
   "metadata": {}
  },
  {
   "cell_type": "code",
   "execution_count": 5,
   "source": [
    "# Find the valid neighbors of a given point (x) in W\n",
    "def neighborhood(x):\n",
    "    neighbors = []\n",
    "    x1 = x + np.array([1, 0])\n",
    "    x2 = x + np.array([0, 1])\n",
    "    x3 = x + np.array([-1, 0])\n",
    "    x4 = x + np.array([0, -1])\n",
    "\n",
    "    all_x = [x1,x2,x3,x4]\n",
    "\n",
    "    for x_i in all_x:\n",
    "        if 0 <= x_i[1] < LENGTH and 0 <= x_i[0] < WIDTH:\n",
    "            if x_i.tolist() in W: neighbors.append(x_i)\n",
    "    return neighbors\n",
    "\n",
    "\n",
    "# Get value in table E for given evader and pursuer positions\n",
    "def getValue_E(e,p):\n",
    "    return E[W.index(e.tolist())][W.index(p.tolist())]\n",
    "\n",
    "def which_action_pursuer(diff):\n",
    "    if (diff == np.array([0, 0])).all():\n",
    "        return 0\n",
    "    elif (diff == np.array([0, 1])).all():\n",
    "        return 1\n",
    "    elif (diff == np.array([-1, 0])).all():\n",
    "        return 2\n",
    "    elif (diff == np.array([0,-1])).all():\n",
    "        return 3\n",
    "    elif (diff == np.array([1, 0])).all():\n",
    "        return 4\n",
    "\n",
    "def which_action_evader(diff):\n",
    "    if (diff == np.array([0, 1])).all():\n",
    "        return 0\n",
    "    elif (diff == np.array([-1, 0])).all():\n",
    "        return 1\n",
    "    elif (diff == np.array([0,-1])).all():\n",
    "        return 2\n",
    "    elif (diff == np.array([1, 0])).all():\n",
    "        return 3\n",
    "\n",
    "from sympy import Polygon\n",
    "from obstacles import obstacles_per_env\n",
    "Obs = obstacles_per_env(sel_env)\n",
    "\n",
    "def isVisual(s):\n",
    "        x = s[0:2]\n",
    "        y = s[2:4]\n",
    "        for obstacle in Obs:\n",
    "            if len(obstacle.intersection(Polygon(x,y))) > 1 or obstacle.encloses_point(x) or obstacle.encloses_point(y):\n",
    "                return False\n",
    "        return True\n"
   ],
   "outputs": [],
   "metadata": {}
  },
  {
   "cell_type": "markdown",
   "source": [
    "## Get sample of random initial states for evaluation\n",
    "\n",
    "The sample size is get according to the formula:\n",
    "$$\n",
    "    m = \\frac{NZ_{\\alpha}^2pq}{e^2(N-1) + Z_{\\alpha}^2pq}\n",
    "$$\n",
    "\n",
    "where:\n",
    "* $N$ is the total of states where there exists initial visibility\n",
    "* $Z_{\\alpha}^2 = 1.96$ is the trust level\n",
    "* $e = 0.05$ is the estimation error accepted\n",
    "* $p=0.5$\n",
    "* $q=0.5$"
   ],
   "metadata": {}
  },
  {
   "cell_type": "code",
   "execution_count": 6,
   "source": [
    "from copy import copy\n",
    "N = states.shape[0]\n",
    "Z = 1.96\n",
    "e = 0.05\n",
    "p = 0.5\n",
    "q = 0.5\n",
    "\n",
    "m = np.ceil((N*Z**2 * p * q) / (e**2 * (N-1) + Z**2 * p * q)).astype(int)\n",
    "states_sample = states[:m,:]\n",
    "states_sample_p = copy(states_sample)\n",
    "max_steps = np.max(E)\n",
    "\n",
    "print(m, 'initial states are considered out of', N, 'as total')\n",
    "\n",
    "escape_lens = []\n",
    "\n",
    "for state in states_sample:\n",
    "    s = (state * res).astype(np.int64)\n",
    "    e = s[0:2]\n",
    "    p = s[2:4]\n",
    "\n",
    "    # Reference of escape length, the one computed by dynamic programming\n",
    "    escape_length = getValue_E(e,p)\n",
    "\n",
    "    escape_lens.append(escape_length)\n",
    "\n",
    "\n",
    "#np.savetxt('states.txt', states_sample, delimiter=' ')\n",
    "#np.savetxt('E_values.txt', escape_lens, delimiter=' ')"
   ],
   "outputs": [
    {
     "output_type": "stream",
     "name": "stdout",
     "text": [
      "382 initial states are considered out of 55994 as total\n"
     ]
    }
   ],
   "metadata": {}
  },
  {
   "cell_type": "markdown",
   "source": [
    "## Compare evader and pursuer Neural networks performance"
   ],
   "metadata": {}
  },
  {
   "cell_type": "code",
   "execution_count": 7,
   "source": [
    "env = Environment(env_head, device)\n",
    "escape_diff = []\n",
    "confussion_matrix = np.zeros((2,2), dtype=np.int64)\n",
    "\n",
    "# Game loop\n",
    "for i in range(m):\n",
    "    state = states_sample[i]\n",
    "    env.state = state\n",
    "    steps = 1\n",
    "    while steps <= max_steps:\n",
    "        evader_dist = evader_model(state).detach().cpu().numpy()\n",
    "        state, _, _, _ = env.step_evader_best_action(evader_dist)\n",
    "\n",
    "        pursuer_dist = pursuer_model(state).detach().cpu().numpy()\n",
    "        state, _, done, _ = env.step_pursuer_best_action(pursuer_dist)\n",
    "\n",
    "        if done:\n",
    "            break\n",
    "\n",
    "        steps += 1\n",
    "        state = env.state\n",
    "\n",
    "    # Matriz de confusion\n",
    "    if escape_lens[i] < max_steps:\n",
    "        if steps < max_steps:\n",
    "            confussion_matrix[0][0] += 1\n",
    "        else:\n",
    "            confussion_matrix[0][1] += 1\n",
    "    else:\n",
    "        if steps < max_steps:\n",
    "            confussion_matrix[1][0] += 1\n",
    "        else:\n",
    "            confussion_matrix[1][1] += 1\n",
    "\n",
    "    val = steps - escape_lens[i]\n",
    "    if val > 10: val = 10\n",
    "    escape_diff.append(val)\n",
    "\n",
    "    if i % 10 == 0 or i == m-1:\n",
    "        print('\\rState {} out of {}'.format(i+1, m), end='')\n",
    "        #print('State', i+1,'out of', m)\n",
    "\n",
    "print('\\n', confussion_matrix)"
   ],
   "outputs": [
    {
     "output_type": "stream",
     "name": "stdout",
     "text": [
      "State 382 out of 382\n",
      " [[291   3]\n",
      " [ 60  28]]\n"
     ]
    }
   ],
   "metadata": {}
  },
  {
   "cell_type": "code",
   "execution_count": 8,
   "source": [
    "percentage, _, _ = plt.hist(escape_diff, bins=np.linspace(0,11,12) , facecolor='maroon', density=True, align='left')\n",
    "plt.title('Evader and Pursuer ANN performance (States centered in cells)')\n",
    "plt.ylabel('Percentage')\n",
    "plt.xlabel('Difference in steps')\n",
    "plt.grid(True)\n",
    "plt.savefig('Env'+str(sel_env)+'_res'+str(res)+'NNeval.png')\n",
    "plt.show()\n",
    "\n",
    "print(percentage)"
   ],
   "outputs": [
    {
     "output_type": "display_data",
     "data": {
      "image/png": "[encoded data removed]",
      "text/plain": [
       "<Figure size 432x288 with 1 Axes>"
      ]
     },
     "metadata": {
      "needs_background": "light"
     }
    },
    {
     "output_type": "stream",
     "name": "stdout",
     "text": [
      "[0.72961373 0.15879828 0.02145923 0.00858369 0.01287554 0.00429185\n",
      " 0.01716738 0.01287554 0.00429185 0.         0.03004292]\n"
     ]
    }
   ],
   "metadata": {}
  },
  {
   "cell_type": "markdown",
   "source": [
    "## Compare evader and pursuer Neural networks performance with perturbed initial positions"
   ],
   "metadata": {}
  },
  {
   "cell_type": "code",
   "execution_count": 9,
   "source": [
    "env = Environment(env_head, device)\n",
    "sigma = 1/(4*res)       # To be used adding noise to the states\n",
    "states_disturbed = states_sample + np.random.normal(loc=0., scale=sigma, size=states_sample.shape)\n",
    "\n",
    "confussion_matrix_disturbed = np.zeros((2,2), dtype=np.int64)\n",
    "\n",
    "escape_diff_disturbed = []\n",
    "# Game loop\n",
    "for i in range(m):\n",
    "    state = states_disturbed[i]\n",
    "    env.state = state\n",
    "    steps = 1\n",
    "    while steps <= max_steps:\n",
    "        evader_dist = evader_model(state).detach().cpu().numpy()\n",
    "        state, _, _, _ = env.step_evader_best_action(evader_dist)\n",
    "\n",
    "        pursuer_dist = pursuer_model(state).detach().cpu().numpy()\n",
    "        state, _, done, _ = env.step_pursuer_best_action(pursuer_dist)\n",
    "\n",
    "        if done:\n",
    "            break\n",
    "\n",
    "        steps += 1\n",
    "        state = env.state\n",
    "\n",
    "    # Matriz de confusion\n",
    "    if escape_lens[i] < max_steps:\n",
    "        if steps < max_steps:\n",
    "            confussion_matrix_disturbed[0][0] += 1\n",
    "        else:\n",
    "            confussion_matrix_disturbed[0][1] += 1\n",
    "    else:\n",
    "        if steps < max_steps:\n",
    "            confussion_matrix_disturbed[1][0] += 1\n",
    "        else:\n",
    "            confussion_matrix_disturbed[1][1] += 1\n",
    "\n",
    "    val = steps - escape_lens[i]\n",
    "    if val > 10: val = 10\n",
    "    escape_diff_disturbed.append(val)\n",
    "\n",
    "    if i % 10 == 0 or i == m-1:\n",
    "        print('\\rState {} out of {}'.format(i+1, m), end='')\n",
    "        if i == m-1:\n",
    "            print('\\n')\n",
    "\n",
    "#np.savetxt('states_disturbed.txt', states_disturbed, delimiter=' ')\n",
    "print(confussion_matrix_disturbed)"
   ],
   "outputs": [
    {
     "output_type": "stream",
     "name": "stdout",
     "text": [
      "State 382 out of 382\n",
      "\n",
      "[[283  11]\n",
      " [ 52  36]]\n"
     ]
    }
   ],
   "metadata": {}
  },
  {
   "cell_type": "code",
   "execution_count": 10,
   "source": [
    "percentage, _, _ = plt.hist(escape_diff_disturbed, bins=np.linspace(0,11,12), facecolor='maroon', density=True, align='left')\n",
    "plt.title('Evader and Pursuer ANN performance (States perturbed from cells centers)')\n",
    "plt.ylabel('Percentage')\n",
    "plt.xlabel('Difference in steps')\n",
    "plt.grid(True)\n",
    "plt.savefig('Env'+str(sel_env)+'_res'+str(res)+'NNeval_disturbed.png')\n",
    "plt.show()\n",
    "\n",
    "print(percentage)"
   ],
   "outputs": [
    {
     "output_type": "display_data",
     "data": {
      "image/png": "[encoded data removed]",
      "text/plain": [
       "<Figure size 432x288 with 1 Axes>"
      ]
     },
     "metadata": {
      "needs_background": "light"
     }
    },
    {
     "output_type": "stream",
     "name": "stdout",
     "text": [
      "[0.60714286 0.21428571 0.03174603 0.01190476 0.01984127 0.\n",
      " 0.01984127 0.02380952 0.00793651 0.00396825 0.05952381]\n"
     ]
    }
   ],
   "metadata": {}
  },
  {
   "cell_type": "markdown",
   "source": [
    "## Compare Evader trained network to Pursuer optimal planning"
   ],
   "metadata": {}
  },
  {
   "cell_type": "code",
   "execution_count": 11,
   "source": [
    "env = Environment(env_head, device)\n",
    "escape_diff_evader = []\n",
    "confussion_matrix_evader = np.zeros((2,2), dtype=np.int64)\n",
    "\n",
    "# Game loop\n",
    "for i in range(m):\n",
    "    state = states_sample[i]\n",
    "    steps = 1\n",
    "\n",
    "    env.state = state\n",
    "\n",
    "    while steps <= max_steps:\n",
    "        evader_dist = evader_model(state).detach().cpu().numpy()\n",
    "        state, _, _, _ = env.step_evader_best_action(evader_dist)\n",
    "\n",
    "        s = (state * res).astype(np.int64)\n",
    "        e = s[0:2]\n",
    "        p = s[2:4]\n",
    "\n",
    "        # Pursuer moves with optimal planning\n",
    "        N_p = neighborhood(p)\n",
    "        if escape_lens[i] == max_steps:\n",
    "            if getValue_E(e, p) != max_steps:\n",
    "                for p_prime in N_p:\n",
    "                    if getValue_E(e, p_prime) == max_steps:\n",
    "                        p = p_prime\n",
    "                        break\n",
    "        else:\n",
    "            S = []\n",
    "            max_val = getValue_E(e, p)\n",
    "            for p_prime in N_p:\n",
    "                max_val = max(max_val, getValue_E(e, p_prime))\n",
    "            if getValue_E(e, p) == max_val:\n",
    "                S.append(p)\n",
    "            for p_prime in N_p:\n",
    "                if getValue_E(e, p_prime) == max_val:\n",
    "                    S.append(p_prime)\n",
    "            \n",
    "            dist_to_max = []\n",
    "            for s in S:\n",
    "                dist_to_max.append(np.linalg.norm(e - s))\n",
    "            p = S[np.argmin(dist_to_max)]\n",
    "\n",
    "        p = (p + 0.5)/res\n",
    "        state[2:4] = p\n",
    "\n",
    "        env.state = state\n",
    "\n",
    "        if not isVisual(state):\n",
    "            break\n",
    "           \n",
    "        steps += 1\n",
    "\n",
    "    # Matriz de confusion\n",
    "    if escape_lens[i] < max_steps:\n",
    "        if steps < max_steps:\n",
    "            confussion_matrix_evader[0][0] += 1\n",
    "        else:\n",
    "            confussion_matrix_evader[0][1] += 1\n",
    "    else:\n",
    "        if steps < max_steps:\n",
    "            confussion_matrix_evader[1][0] += 1\n",
    "        else:\n",
    "            confussion_matrix_evader[1][1] += 1\n",
    "\n",
    "\n",
    "    val = steps - escape_lens[i]\n",
    "    if val > 10: val = 10\n",
    "    escape_diff_evader.append(val)\n",
    "\n",
    "    if i % 10 == 0 or i == m-1:\n",
    "        print('\\rState {} out of {}'.format(i+1, m), end='')\n",
    "        if i == m-1:\n",
    "            print('\\n')\n",
    "\n",
    "print(confussion_matrix_evader)"
   ],
   "outputs": [
    {
     "output_type": "stream",
     "name": "stdout",
     "text": [
      "State 382 out of 382\n",
      "\n",
      "[[288   6]\n",
      " [  0  88]]\n"
     ]
    }
   ],
   "metadata": {}
  },
  {
   "cell_type": "code",
   "execution_count": 12,
   "source": [
    "percentage, _, _ = plt.hist(escape_diff_evader, bins=np.linspace(0,11,12) , facecolor='maroon', density=True, align='left')\n",
    "plt.title('Evader ANN performance (States centered in cells)')\n",
    "plt.ylabel('Percentage')\n",
    "plt.xlabel('Difference in steps')\n",
    "plt.grid(True)\n",
    "plt.savefig('Env'+str(sel_env)+'_res'+str(res)+'NNeval_evader.png')\n",
    "plt.show()\n",
    "\n",
    "print(percentage)"
   ],
   "outputs": [
    {
     "output_type": "display_data",
     "data": {
      "image/png": "[encoded data removed]",
      "text/plain": [
       "<Figure size 432x288 with 1 Axes>"
      ]
     },
     "metadata": {
      "needs_background": "light"
     }
    },
    {
     "output_type": "stream",
     "name": "stdout",
     "text": [
      "[0.62827225 0.26439791 0.02094241 0.0052356  0.0104712  0.0052356\n",
      " 0.01308901 0.01570681 0.0078534  0.0026178  0.02617801]\n"
     ]
    }
   ],
   "metadata": {}
  },
  {
   "cell_type": "markdown",
   "source": [
    "## Compare Pursuer trained network to Evader optimal planning"
   ],
   "metadata": {}
  },
  {
   "cell_type": "code",
   "execution_count": 13,
   "source": [
    "env = Environment(env_head, device)\n",
    "escape_diff_pursuer = []\n",
    "confussion_matrix_pursuer = np.zeros((2,2), dtype=np.int64)\n",
    "\n",
    "# Game loop\n",
    "for i in range(m):\n",
    "    state = states_sample[i]\n",
    "    steps = 1\n",
    "\n",
    "    s = (state * res).astype(np.int64)\n",
    "    e_last = s[0:2]\n",
    "    while steps <= max_steps:\n",
    "        s = (state * res).astype(np.int64)\n",
    "        e = s[0:2]\n",
    "        p = s[2:4]\n",
    "\n",
    "        # Evader moves with optimal planning\n",
    "        N_e = neighborhood(e)\n",
    "        N_p = neighborhood(p)\n",
    "        if escape_lens[i] == max_steps:\n",
    "            valE_in_Ne = []\n",
    "            for e_prime in N_e:\n",
    "                if (e_prime == e_last).all():\n",
    "                    valE_in_Ne.append(np.inf)\n",
    "                else:\n",
    "                    valE_in_Ne.append(getValue_E(e_prime, p))\n",
    "            e_last = e\n",
    "\n",
    "            min_valE = np.argwhere(valE_in_Ne == np.min(valE_in_Ne))\n",
    "            if min_valE.shape[0] * min_valE.shape[1] == 1:\n",
    "                e = N_e[min_valE[0][0]]\n",
    "            else:\n",
    "                dist_to_pursuer = []\n",
    "                for m_i in min_valE:\n",
    "                    dist_to_pursuer.append(np.linalg.norm(N_e[m_i[0]] - p))\n",
    "                e = N_e[min_valE[np.argmax(dist_to_pursuer)][0]]\n",
    "        else:\n",
    "            maxes = []\n",
    "            for e_prime in N_e:\n",
    "                max_val = getValue_E(e_prime, p)\n",
    "                for p_prime in N_p:\n",
    "                    max_val = max(max_val, getValue_E(e_prime, p_prime))\n",
    "                maxes.append(max_val)\n",
    "            e = N_e[np.argmin(maxes)]\n",
    "\n",
    "        e = (e + 0.5)/res\n",
    "        state[0:2] = e\n",
    "        \n",
    "        env.state = state\n",
    "\n",
    "        pursuer_dist = pursuer_model(state).detach().cpu().numpy()\n",
    "        state, _, done, _ = env.step_pursuer_best_action(pursuer_dist)\n",
    "\n",
    "        if done:\n",
    "            break\n",
    "\n",
    "        steps += 1\n",
    "\n",
    "    # Matriz de confusion\n",
    "    if escape_lens[i] < max_steps:\n",
    "        if steps < max_steps:\n",
    "            confussion_matrix_pursuer[0][0] += 1\n",
    "        else:\n",
    "            confussion_matrix_pursuer[0][1] += 1\n",
    "    else:\n",
    "        if steps < max_steps:\n",
    "            confussion_matrix_pursuer[1][0] += 1\n",
    "        else:\n",
    "            confussion_matrix_pursuer[1][1] += 1\n",
    "\n",
    "\n",
    "    val = steps - escape_lens[i]\n",
    "    if val > 10: val = 10\n",
    "    escape_diff_pursuer.append(val)\n",
    "\n",
    "    if i % 10 == 0 or i == m-1:\n",
    "        print('\\rState {} out of {}'.format(i+1, m), end='')\n",
    "        if i == m-1:\n",
    "            print('\\n')\n",
    "\n",
    "print(confussion_matrix_pursuer)"
   ],
   "outputs": [
    {
     "output_type": "stream",
     "name": "stdout",
     "text": [
      "State 382 out of 382\n",
      "\n",
      "[[294   0]\n",
      " [ 69  19]]\n"
     ]
    }
   ],
   "metadata": {}
  },
  {
   "cell_type": "code",
   "execution_count": 14,
   "source": [
    "percentage, _, _ = plt.hist(escape_diff_pursuer, bins=np.linspace(0,11,12) , facecolor='maroon', density=True, align='left')\n",
    "plt.title('Pursuer ANN performance (States centered in cells)')\n",
    "plt.ylabel('Percentage')\n",
    "plt.xlabel('Difference in steps')\n",
    "plt.grid(True)\n",
    "plt.savefig('Env'+str(sel_env)+'_res'+str(res)+'NNeval_pursuer.png')\n",
    "plt.show()\n",
    "\n",
    "print(percentage)"
   ],
   "outputs": [
    {
     "output_type": "display_data",
     "data": {
      "image/png": "[encoded data removed]",
      "text/plain": [
       "<Figure size 432x288 with 1 Axes>"
      ]
     },
     "metadata": {
      "needs_background": "light"
     }
    },
    {
     "output_type": "stream",
     "name": "stdout",
     "text": [
      "[0.89732143 0.08928571 0.         0.         0.00446429 0.\n",
      " 0.00892857 0.         0.         0.         0.        ]\n"
     ]
    }
   ],
   "metadata": {}
  },
  {
   "cell_type": "code",
   "execution_count": 15,
   "source": [
    "conffusion_matrices = np.array([confussion_matrix, confussion_matrix_disturbed, confussion_matrix_evader, confussion_matrix_pursuer],dtype=np.int64).transpose(1,0,2).reshape(2,-1)\n",
    "np.savetxt('Env'+str(sel_env)+'_res'+str(res)+'_conf_matrices.txt', conffusion_matrices,fmt='%d')"
   ],
   "outputs": [],
   "metadata": {}
  },
  {
   "cell_type": "code",
   "execution_count": null,
   "source": [],
   "outputs": [],
   "metadata": {}
  }
 ],
 "metadata": {
  "interpreter": {
   "hash": "916dbcbb3f70747c44a77c7bcd40155683ae19c65e1c03b4aa3499c5328201f1"
  },
  "kernelspec": {
   "name": "python3",
   "display_name": "Python 3 (ipykernel)",
   "language": "python"
  },
  "orig_nbformat": 4
 },
 "nbformat": 4,
 "nbformat_minor": 2
}